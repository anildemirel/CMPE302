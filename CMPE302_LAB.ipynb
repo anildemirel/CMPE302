{
  "nbformat": 4,
  "nbformat_minor": 0,
  "metadata": {
    "colab": {
      "provenance": [],
      "authorship_tag": "ABX9TyMq8DGYD/HGbG3YliewTdsc",
      "include_colab_link": true
    },
    "kernelspec": {
      "name": "python3",
      "display_name": "Python 3"
    },
    "language_info": {
      "name": "python"
    }
  },
  "cells": [
    {
      "cell_type": "markdown",
      "metadata": {
        "id": "view-in-github",
        "colab_type": "text"
      },
      "source": [
        "<a href=\"https://colab.research.google.com/github/anildemirel/anilldemirell/blob/main/CMPE302_LAB.ipynb\" target=\"_parent\"><img src=\"https://colab.research.google.com/assets/colab-badge.svg\" alt=\"Open In Colab\"/></a>"
      ]
    },
    {
      "cell_type": "code",
      "execution_count": null,
      "metadata": {
        "id": "utFy_qzBqvJj"
      },
      "outputs": [],
      "source": [
        "#import modules\n",
        "import matplotlib.pyplot as plt\n",
        "import numpy as np"
      ]
    },
    {
      "cell_type": "code",
      "source": [
        "vec = [3,4,5,2]\n",
        "s = 3\n",
        "\n",
        "vec*s"
      ],
      "metadata": {
        "id": "Nr1WFXvSrKTA",
        "colab": {
          "base_uri": "https://localhost:8080/",
          "height": 0
        },
        "outputId": "66b9866a-f3ea-489f-c5a2-901bda1b3e4d"
      },
      "execution_count": 4,
      "outputs": [
        {
          "output_type": "execute_result",
          "data": {
            "text/plain": [
              "[3, 4, 5, 2, 3, 4, 5, 2, 3, 4, 5, 2]"
            ]
          },
          "metadata": {},
          "execution_count": 4
        }
      ]
    },
    {
      "cell_type": "code",
      "source": [
        "vec =np.array([3,4,5,2])\n",
        "s = 3\n",
        "\n",
        "vec*s"
      ],
      "metadata": {
        "colab": {
          "base_uri": "https://localhost:8080/",
          "height": 0
        },
        "id": "yKT_cVCUsDX3",
        "outputId": "b22c414c-effb-49ed-ea64-45c92a33e28d"
      },
      "execution_count": 5,
      "outputs": [
        {
          "output_type": "execute_result",
          "data": {
            "text/plain": [
              "array([ 9, 12, 15,  6])"
            ]
          },
          "metadata": {},
          "execution_count": 5
        }
      ]
    },
    {
      "cell_type": "code",
      "source": [
        "#Assignment\n",
        "# Create two vectors (2Dimensional vectors)\n",
        "#Plot each vector\n",
        "#Plot v1+v2, v1-v2, (v1*4 + v2/2)"
      ],
      "metadata": {
        "id": "QXx5MD1AulTi"
      },
      "execution_count": 6,
      "outputs": []
    },
    {
      "cell_type": "code",
      "source": [
        "#Dot Product\n",
        "v1 = np.array([4,5,6,2])\n",
        "v2 = np.array([-4,3,0,5])\n",
        "\n",
        "np.dot(v1,v2)"
      ],
      "metadata": {
        "colab": {
          "base_uri": "https://localhost:8080/",
          "height": 0
        },
        "id": "4--0QlpZvGpI",
        "outputId": "75da79df-83c3-44db-a22b-9ee068a3274d"
      },
      "execution_count": 7,
      "outputs": [
        {
          "output_type": "execute_result",
          "data": {
            "text/plain": [
              "9"
            ]
          },
          "metadata": {},
          "execution_count": 7
        }
      ]
    },
    {
      "cell_type": "code",
      "source": [
        "v3 = np.array([-4,3,1,-2])\n",
        "np.dot(v2,v3)"
      ],
      "metadata": {
        "colab": {
          "base_uri": "https://localhost:8080/",
          "height": 0
        },
        "id": "BNoxGIFfxbP9",
        "outputId": "b9dc27c2-ac9a-42d7-94b4-c381bb1751f5"
      },
      "execution_count": 10,
      "outputs": [
        {
          "output_type": "execute_result",
          "data": {
            "text/plain": [
              "15"
            ]
          },
          "metadata": {},
          "execution_count": 10
        }
      ]
    },
    {
      "cell_type": "code",
      "source": [
        "v4 = np.array([-4,3,1])\n",
        "v5 = np.array([2,3,-1])\n",
        "\n",
        "np.dot(v4,v5)\n",
        "\n",
        "# vector v4 orthogonal to vector v5."
      ],
      "metadata": {
        "colab": {
          "base_uri": "https://localhost:8080/",
          "height": 0
        },
        "id": "Jnv2zJotz1W5",
        "outputId": "d361186b-770b-433e-c2e6-843cc787afec"
      },
      "execution_count": 12,
      "outputs": [
        {
          "output_type": "execute_result",
          "data": {
            "text/plain": [
              "0"
            ]
          },
          "metadata": {},
          "execution_count": 12
        }
      ]
    },
    {
      "cell_type": "code",
      "source": [
        "#Assignment 2\n",
        "# 1) Come up with three 2Dimensional vectors, two of them are orthogonal, but neither is orthogonal to the third.\n",
        "# 2) Plot all three vectors -- make sure the axes are square and equal."
      ],
      "metadata": {
        "id": "adFWaqNI1N2u"
      },
      "execution_count": 13,
      "outputs": []
    },
    {
      "cell_type": "code",
      "source": [
        "#-----------------------\n",
        "# Matrices"
      ],
      "metadata": {
        "id": "HFdWDY_f2Wrn"
      },
      "execution_count": 14,
      "outputs": []
    },
    {
      "cell_type": "code",
      "source": [
        "np.eye(3)\n",
        "#it gives 3*3 identity matrices"
      ],
      "metadata": {
        "colab": {
          "base_uri": "https://localhost:8080/",
          "height": 0
        },
        "id": "Q0B_BWln4W_I",
        "outputId": "e278bb3a-7298-4fbc-ea88-736b8c3356f9"
      },
      "execution_count": 15,
      "outputs": [
        {
          "output_type": "execute_result",
          "data": {
            "text/plain": [
              "array([[1., 0., 0.],\n",
              "       [0., 1., 0.],\n",
              "       [0., 0., 1.]])"
            ]
          },
          "metadata": {},
          "execution_count": 15
        }
      ]
    },
    {
      "cell_type": "code",
      "source": [
        "np.zeros((3,4))\n",
        "#it gives 3*4 zero matrices"
      ],
      "metadata": {
        "colab": {
          "base_uri": "https://localhost:8080/",
          "height": 0
        },
        "id": "9zhtT7NV4pnl",
        "outputId": "36f52d23-eb94-42ab-ed14-aac13562689c"
      },
      "execution_count": 16,
      "outputs": [
        {
          "output_type": "execute_result",
          "data": {
            "text/plain": [
              "array([[0., 0., 0., 0.],\n",
              "       [0., 0., 0., 0.],\n",
              "       [0., 0., 0., 0.]])"
            ]
          },
          "metadata": {},
          "execution_count": 16
        }
      ]
    },
    {
      "cell_type": "code",
      "source": [
        "np.full((5,2),7)"
      ],
      "metadata": {
        "colab": {
          "base_uri": "https://localhost:8080/",
          "height": 0
        },
        "id": "GGjyGxn349aC",
        "outputId": "51b795a9-2c45-4117-d71a-56cbd92677b6"
      },
      "execution_count": 18,
      "outputs": [
        {
          "output_type": "execute_result",
          "data": {
            "text/plain": [
              "array([[7, 7],\n",
              "       [7, 7],\n",
              "       [7, 7],\n",
              "       [7, 7],\n",
              "       [7, 7]])"
            ]
          },
          "metadata": {},
          "execution_count": 18
        }
      ]
    },
    {
      "cell_type": "code",
      "source": [
        "M = np.array ([[1,2,3],\n",
        "              [4,5,6],\n",
        "              [7,8,9]])\n",
        "\n",
        "print(M)"
      ],
      "metadata": {
        "colab": {
          "base_uri": "https://localhost:8080/",
          "height": 0
        },
        "id": "pUph5LIR5Fkn",
        "outputId": "a62f10e7-300f-4e45-e7b1-f4c3689ba18b"
      },
      "execution_count": 22,
      "outputs": [
        {
          "output_type": "stream",
          "name": "stdout",
          "text": [
            "[[1 2 3]\n",
            " [4 5 6]\n",
            " [7 8 9]]\n"
          ]
        }
      ]
    },
    {
      "cell_type": "code",
      "source": [
        "#Assignment 3\n",
        "# 1) Create 3 matrices: 2x2, 2x2, 3x2\n",
        "# 2) Compute scalar matrix multiplication\n",
        "# 3) add all pairs of matrices"
      ],
      "metadata": {
        "id": "dBt_SA7r6cNa"
      },
      "execution_count": 23,
      "outputs": []
    },
    {
      "cell_type": "code",
      "source": [
        "#--------------\n",
        "# Transposing a vector\n",
        "\n",
        "M = np.array([[1, 2, 3],\n",
        "              [4, 5, 6],\n",
        "              [7, 8, 9]])\n",
        "\n",
        "transposed_M = np.transpose(M)\n",
        "\n",
        "print(M)\n",
        "print(transposed_M)\n"
      ],
      "metadata": {
        "colab": {
          "base_uri": "https://localhost:8080/",
          "height": 0
        },
        "id": "D8lndSIZ7uWt",
        "outputId": "c07b8fd1-4e89-4876-c9fa-4837cb321d0a"
      },
      "execution_count": 26,
      "outputs": [
        {
          "output_type": "stream",
          "name": "stdout",
          "text": [
            "[[1 2 3]\n",
            " [4 5 6]\n",
            " [7 8 9]]\n",
            "[[1 4 7]\n",
            " [2 5 8]\n",
            " [3 6 9]]\n"
          ]
        }
      ]
    },
    {
      "cell_type": "code",
      "source": [
        "#Symmetric Matrices\n",
        "#.   is A = A^T"
      ],
      "metadata": {
        "id": "QxpJJxja77aa"
      },
      "execution_count": 24,
      "outputs": []
    },
    {
      "cell_type": "code",
      "source": [
        "# Assignment 4\n",
        "\n",
        "# 1) What happens when transpose twice? M matrix, MT transpose, MTT\n",
        "# 2) Confirm that transpose operation works on non-square matrices"
      ],
      "metadata": {
        "id": "J3U1NadP-fb5"
      },
      "execution_count": null,
      "outputs": []
    },
    {
      "cell_type": "code",
      "source": [
        "#--------------------------\n",
        "# Matrix Multiplication\n",
        "\n",
        "matrix1 = np.array([[1, 2, 3],\n",
        "                    [4, 5, 6]])\n",
        "\n",
        "matrix2 = np.array([[7, 8],\n",
        "                    [9, 10],\n",
        "                    [11, 12]])\n",
        "\n",
        "result_matrixMult = matrix1 @ matrix2\n",
        "print(result_matrixMult)"
      ],
      "metadata": {
        "colab": {
          "base_uri": "https://localhost:8080/",
          "height": 0
        },
        "id": "gH9SfKMH_Iuf",
        "outputId": "21697090-d7d5-438d-a07c-abb13772ac90"
      },
      "execution_count": 30,
      "outputs": [
        {
          "output_type": "stream",
          "name": "stdout",
          "text": [
            "[[ 58  64]\n",
            " [139 154]]\n"
          ]
        }
      ]
    },
    {
      "cell_type": "code",
      "source": [
        "# Assignment 5\n",
        "\n",
        "# 1) Create 3x3 matrix of integers\n",
        "# 2) Multiply by (a) Identiy, (b) Zeros, (c) that matrix's transpose"
      ],
      "metadata": {
        "id": "Pqg7iKSAA_fS"
      },
      "execution_count": 31,
      "outputs": []
    },
    {
      "cell_type": "code",
      "source": [
        "#------------------------------\n",
        "# The Matrix Inverse\n",
        "\n",
        "matrix = np.array([[4, 7],\n",
        "                   [2, 6]])\n",
        "\n",
        "inverse_matrix = np.linalg.inv(matrix)\n",
        "\n",
        "print(matrix)\n",
        "print(inverse_matrix)"
      ],
      "metadata": {
        "colab": {
          "base_uri": "https://localhost:8080/",
          "height": 0
        },
        "id": "qkrj1c1jBfHa",
        "outputId": "fb911fe7-f34c-4e97-847f-e4200b39e11a"
      },
      "execution_count": 32,
      "outputs": [
        {
          "output_type": "stream",
          "name": "stdout",
          "text": [
            "[[4 7]\n",
            " [2 6]]\n",
            "[[ 0.6 -0.7]\n",
            " [-0.2  0.4]]\n"
          ]
        }
      ]
    },
    {
      "cell_type": "code",
      "source": [
        "#---------------------\n",
        "# Eigenvalues and Eigenvectors\n",
        "#\n",
        "matrix = np.array([[4, -2],\n",
        "                   [1,  1]])\n",
        "\n",
        "# Compute Eigenvalues and eigenvectors\n",
        "eigenvalues, eigenvectors = np.linalg.eig(matrix)\n",
        "\n",
        "\n",
        "print(\"Matrice:\")\n",
        "print(matrix)\n",
        "\n",
        "print(\"\\nEigenvalues:\")\n",
        "print(eigenvalues)\n",
        "\n",
        "print(\"\\nEigenvectors:\")\n",
        "print(eigenvectors)"
      ],
      "metadata": {
        "colab": {
          "base_uri": "https://localhost:8080/",
          "height": 0
        },
        "id": "B7ilp18WCeV9",
        "outputId": "2147be73-4aee-4eac-9d2b-8333f24929b8"
      },
      "execution_count": 36,
      "outputs": [
        {
          "output_type": "stream",
          "name": "stdout",
          "text": [
            "Matrice:\n",
            "[[ 4 -2]\n",
            " [ 1  1]]\n",
            "\n",
            "Eigenvalues:\n",
            "[3. 2.]\n",
            "\n",
            "Eigenvectors:\n",
            "[[0.89442719 0.70710678]\n",
            " [0.4472136  0.70710678]]\n"
          ]
        }
      ]
    }
  ]
}